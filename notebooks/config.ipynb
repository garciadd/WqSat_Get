{
 "cells": [
  {
   "cell_type": "code",
   "execution_count": 1,
   "metadata": {},
   "outputs": [],
   "source": [
    "from wqsat_get import utils"
   ]
  },
  {
   "cell_type": "markdown",
   "metadata": {},
   "source": [
    "## Regions yaml"
   ]
  },
  {
   "cell_type": "code",
   "execution_count": 2,
   "metadata": {},
   "outputs": [],
   "source": [
    "# Create the 'regions.yaml' file with example regions and their coordinates\n",
    "utils.update_regions('Santander', W=-3.85, S=43.41, E=-3.75, N=43.47)"
   ]
  },
  {
   "cell_type": "code",
   "execution_count": 3,
   "metadata": {},
   "outputs": [],
   "source": [
    "# Update the file by adding new regions with coordinates\n",
    "utils.update_regions('CdP', W=-2.830, S=41.820, E=-2.690, N=41.910)"
   ]
  },
  {
   "cell_type": "code",
   "execution_count": 4,
   "metadata": {},
   "outputs": [
    {
     "data": {
      "text/plain": [
       "{'CdP': {'E': -2.69, 'N': 41.91, 'S': 41.82, 'W': -2.83},\n",
       " 'Santander': {'E': -3.75, 'N': 43.47, 'S': 43.41, 'W': -3.85}}"
      ]
     },
     "execution_count": 4,
     "metadata": {},
     "output_type": "execute_result"
    }
   ],
   "source": [
    "# Show all regions and their coordinates in the file\n",
    "utils.get_regions()"
   ]
  },
  {
   "cell_type": "code",
   "execution_count": 5,
   "metadata": {},
   "outputs": [
    {
     "name": "stdout",
     "output_type": "stream",
     "text": [
      "Coordinates of 'CdP': {'E': -2.69, 'N': 41.91, 'S': 41.82, 'W': -2.83}\n"
     ]
    }
   ],
   "source": [
    "# Load the coordinates\n",
    "coordinates = utils.get_coordinates('CdP')\n",
    "print(\"Coordinates of 'CdP':\", coordinates)"
   ]
  }
 ],
 "metadata": {
  "kernelspec": {
   "display_name": ".venv",
   "language": "python",
   "name": "python3"
  },
  "language_info": {
   "codemirror_mode": {
    "name": "ipython",
    "version": 3
   },
   "file_extension": ".py",
   "mimetype": "text/x-python",
   "name": "python",
   "nbconvert_exporter": "python",
   "pygments_lexer": "ipython3",
   "version": "3.12.3"
  }
 },
 "nbformat": 4,
 "nbformat_minor": 4
}
