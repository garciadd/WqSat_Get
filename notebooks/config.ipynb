{
 "cells": [
  {
   "cell_type": "code",
   "execution_count": 1,
   "metadata": {},
   "outputs": [],
   "source": [
    "from wqsat_get import utils"
   ]
  },
  {
   "cell_type": "markdown",
   "metadata": {},
   "source": [
    "## Create config yaml"
   ]
  },
  {
   "cell_type": "code",
   "execution_count": null,
   "metadata": {},
   "outputs": [
    {
     "name": "stdout",
     "output_type": "stream",
     "text": [
      "Config file saved successfully.\n"
     ]
    }
   ],
   "source": [
    "# Create the 'credentials.yaml' file with default values\n",
    "utils.save_credentials()"
   ]
  },
  {
   "cell_type": "code",
   "execution_count": null,
   "metadata": {},
   "outputs": [
    {
     "name": "stdout",
     "output_type": "stream",
     "text": [
      "Config file saved successfully.\n"
     ]
    }
   ],
   "source": [
    "# Update settings\n",
    "utils.save_credentials(sentinel_user=\"sentinel_user\", sentinel_password=\"sentinel****\")"
   ]
  },
  {
   "cell_type": "code",
   "execution_count": null,
   "metadata": {},
   "outputs": [],
   "source": [
    "# Load the credentials from the 'credentials.yaml' file\n",
    "credentials = utils.load_credentials()\n",
    "print(credentials['sentinel'])"
   ]
  },
  {
   "cell_type": "markdown",
   "metadata": {},
   "source": [
    "## Regions yaml"
   ]
  },
  {
   "cell_type": "code",
   "execution_count": 7,
   "metadata": {},
   "outputs": [
    {
     "name": "stdout",
     "output_type": "stream",
     "text": [
      "Region 'Santander' added successfully.\n"
     ]
    }
   ],
   "source": [
    "# Create the 'regions.yaml' file with example regions and their coordinates\n",
    "utils.update_regions('Santander', W=-3.85, S=43.41, E=-3.75, N=43.47)"
   ]
  },
  {
   "cell_type": "code",
   "execution_count": 8,
   "metadata": {},
   "outputs": [
    {
     "name": "stdout",
     "output_type": "stream",
     "text": [
      "Region 'CdP' added successfully.\n"
     ]
    }
   ],
   "source": [
    "# Update the file by adding new regions with coordinates\n",
    "utils.update_regions('CdP', W=-2.830, S=41.820, E=-2.690, N=41.910)"
   ]
  },
  {
   "cell_type": "code",
   "execution_count": 9,
   "metadata": {},
   "outputs": [
    {
     "name": "stdout",
     "output_type": "stream",
     "text": [
      "Regions in the file: dict_keys(['CdP', 'Santander'])\n"
     ]
    }
   ],
   "source": [
    "# Show all regions and their coordinates in the file\n",
    "utils.get_regions()"
   ]
  },
  {
   "cell_type": "code",
   "execution_count": 10,
   "metadata": {},
   "outputs": [
    {
     "name": "stdout",
     "output_type": "stream",
     "text": [
      "Coordinates of 'CdP': {'E': -2.69, 'N': 41.91, 'S': 41.82, 'W': -2.83}\n"
     ]
    }
   ],
   "source": [
    "# Load the coordinates\n",
    "coordinates = utils.get_coordinates('CdP')\n",
    "print(\"Coordinates of 'CdP':\", coordinates)"
   ]
  }
 ],
 "metadata": {
  "kernelspec": {
   "display_name": ".venv",
   "language": "python",
   "name": "python3"
  },
  "language_info": {
   "codemirror_mode": {
    "name": "ipython",
    "version": 3
   },
   "file_extension": ".py",
   "mimetype": "text/x-python",
   "name": "python",
   "nbconvert_exporter": "python",
   "pygments_lexer": "ipython3",
   "version": "3.10.12"
  }
 },
 "nbformat": 4,
 "nbformat_minor": 4
}
