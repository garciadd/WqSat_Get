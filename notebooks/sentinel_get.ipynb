{
 "cells": [
  {
   "cell_type": "markdown",
   "metadata": {},
   "source": [
    "### 0. Import package"
   ]
  },
  {
   "cell_type": "code",
   "execution_count": 1,
   "metadata": {},
   "outputs": [],
   "source": [
    "from wqsat_get.manager import GetManager\n",
    "from wqsat_get import utils"
   ]
  },
  {
   "cell_type": "markdown",
   "metadata": {},
   "source": [
    "### 1. Search by tile name (different product types and levels)"
   ]
  },
  {
   "cell_type": "code",
   "execution_count": null,
   "metadata": {},
   "outputs": [
    {
     "name": "stdout",
     "output_type": "stream",
     "text": [
      "Retrieving 1 results \n",
      "\n"
     ]
    },
    {
     "name": "stderr",
     "output_type": "stream",
     "text": [
      "Downloading S2B_MSIL1C_20250201T110159_N0511_R094_T30TWM_20250201T114539.SAFE:  24%|██▍       | 191M/803M [00:27<04:14, 2.41MB/s] "
     ]
    }
   ],
   "source": [
    "# Sentinel-2, Level 1, product type S2MSI1C --> S2B_MSIL1C_20250201T110159_N0511_R094_T30TWM_20250201T114539.SAFE\n",
    "# Sentinel-2, Level 2, product type S2MSI2A --> S2A_MSIL2A_20250206T110301_N0511_R094_T30TWM_20250206T145957.SAFE\n",
    "# Sentinel-3, Level 1, product type OL_1_EFR___ --> S3A_OL_1_EFR____20210705T102429_20210705T102729_20210706T153631_0180_073_336_2160_LN1_O_NT_002.SEN3\n",
    "# Sentinel-3, Level 2, product type OL_2_WFR___ --> S3A_OL_2_WFR____20250209T103153_20250209T103453_20250209T122811_0179_122_222_2160_MAR_O_NR_003.SEN3\n",
    "# Sentinel-3, Level 2, product type OL_2_LFR___ --> S3B_OL_2_LFR____20250204T102556_20250204T102856_20250205T111038_0179_103_008_2340_ESA_O_NT_003.SEN3\n",
    "\n",
    "settings = {'tile':\"S2B_MSIL1C_20250201T110159_N0511_R094_T30TWM_20250201T114539.SAFE\"}\n",
    "downloader = GetManager(settings)\n",
    "results = downloader.search()\n",
    "results\n",
    "\n",
    "downloaded, pending = downloader.download()"
   ]
  },
  {
   "cell_type": "markdown",
   "metadata": {},
   "source": [
    "### 2. Search by a list of tiles (mixing different types and levels)"
   ]
  },
  {
   "cell_type": "code",
   "execution_count": null,
   "metadata": {},
   "outputs": [
    {
     "data": {
      "text/html": [
       "<div>\n",
       "<style scoped>\n",
       "    .dataframe tbody tr th:only-of-type {\n",
       "        vertical-align: middle;\n",
       "    }\n",
       "\n",
       "    .dataframe tbody tr th {\n",
       "        vertical-align: top;\n",
       "    }\n",
       "\n",
       "    .dataframe thead th {\n",
       "        text-align: right;\n",
       "    }\n",
       "</style>\n",
       "<table border=\"1\" class=\"dataframe\">\n",
       "  <thead>\n",
       "    <tr style=\"text-align: right;\">\n",
       "      <th></th>\n",
       "      <th>@odata.mediaContentType</th>\n",
       "      <th>Id</th>\n",
       "      <th>Name</th>\n",
       "      <th>ContentType</th>\n",
       "      <th>ContentLength</th>\n",
       "      <th>OriginDate</th>\n",
       "      <th>PublicationDate</th>\n",
       "      <th>ModificationDate</th>\n",
       "      <th>Online</th>\n",
       "      <th>EvictionDate</th>\n",
       "      <th>S3Path</th>\n",
       "      <th>Checksum</th>\n",
       "      <th>ContentDate</th>\n",
       "      <th>Footprint</th>\n",
       "      <th>GeoFootprint</th>\n",
       "    </tr>\n",
       "  </thead>\n",
       "  <tbody>\n",
       "    <tr>\n",
       "      <th>0</th>\n",
       "      <td>application/octet-stream</td>\n",
       "      <td>edb34515-7261-451a-ab02-d85ebcdf6785</td>\n",
       "      <td>S3A_OL_2_WFR____20250209T103153_20250209T10345...</td>\n",
       "      <td>application/octet-stream</td>\n",
       "      <td>158587676</td>\n",
       "      <td>2025-02-09T12:30:03.062000Z</td>\n",
       "      <td>2025-02-09T12:36:03.032057Z</td>\n",
       "      <td>2025-02-09T12:49:50.228132Z</td>\n",
       "      <td>True</td>\n",
       "      <td>9999-12-31T23:59:59.999999Z</td>\n",
       "      <td>/eodata/Sentinel-3/OLCI/OL_2_WFR___/2025/02/09...</td>\n",
       "      <td>[{'Value': 'bb33731e2d12aacda774b2aa39e735a8',...</td>\n",
       "      <td>{'Start': '2025-02-09T10:31:53.201611Z', 'End'...</td>\n",
       "      <td>geography'SRID=4326;POLYGON ((-12.7364 41.9745...</td>\n",
       "      <td>{'type': 'Polygon', 'coordinates': [[[-12.7364...</td>\n",
       "    </tr>\n",
       "    <tr>\n",
       "      <th>1</th>\n",
       "      <td>application/octet-stream</td>\n",
       "      <td>2eb6ebd9-930c-59fa-8dea-1e67cf012611</td>\n",
       "      <td>S3A_OL_1_EFR____20210705T102429_20210705T10272...</td>\n",
       "      <td>application/octet-stream</td>\n",
       "      <td>0</td>\n",
       "      <td>2021-07-06T16:15:05.322000Z</td>\n",
       "      <td>2021-07-06T16:22:48.993387Z</td>\n",
       "      <td>2021-07-06T16:22:48.993387Z</td>\n",
       "      <td>True</td>\n",
       "      <td>9999-12-31T23:59:59.999999Z</td>\n",
       "      <td>/eodata/Sentinel-3/OLCI/OL_1_EFR/2021/07/05/S3...</td>\n",
       "      <td>[]</td>\n",
       "      <td>{'Start': '2021-07-05T10:24:28.504000Z', 'End'...</td>\n",
       "      <td>geography'SRID=4326;POLYGON ((-10.867 41.9672,...</td>\n",
       "      <td>{'type': 'Polygon', 'coordinates': [[[-10.867,...</td>\n",
       "    </tr>\n",
       "    <tr>\n",
       "      <th>2</th>\n",
       "      <td>application/octet-stream</td>\n",
       "      <td>8ff7c51f-f49b-47d9-b416-63df29f0557c</td>\n",
       "      <td>S2B_MSIL1C_20250201T110159_N0511_R094_T30TWM_2...</td>\n",
       "      <td>application/octet-stream</td>\n",
       "      <td>803235674</td>\n",
       "      <td>2025-02-01T12:23:18.000000Z</td>\n",
       "      <td>2025-02-01T12:30:17.499146Z</td>\n",
       "      <td>2025-02-01T12:30:17.499146Z</td>\n",
       "      <td>True</td>\n",
       "      <td>9999-12-31T23:59:59.999999Z</td>\n",
       "      <td>/eodata/Sentinel-2/MSI/L1C/2025/02/01/S2B_MSIL...</td>\n",
       "      <td>[{'Value': '3c7c187e8334aa5846932fa377e821e0',...</td>\n",
       "      <td>{'Start': '2025-02-01T11:01:59.024000Z', 'End'...</td>\n",
       "      <td>geography'SRID=4326;POLYGON ((-3.0002432260191...</td>\n",
       "      <td>{'type': 'Polygon', 'coordinates': [[[-3.00024...</td>\n",
       "    </tr>\n",
       "    <tr>\n",
       "      <th>3</th>\n",
       "      <td>application/octet-stream</td>\n",
       "      <td>f3697bc5-f35e-42e7-b26c-e44f4a60e882</td>\n",
       "      <td>S2C_MSIL2A_20250206T110301_N0511_R094_T30TWM_2...</td>\n",
       "      <td>application/octet-stream</td>\n",
       "      <td>1214617828</td>\n",
       "      <td>2025-02-06T15:54:25.000000Z</td>\n",
       "      <td>2025-02-06T16:06:55.109260Z</td>\n",
       "      <td>2025-02-06T16:06:55.109260Z</td>\n",
       "      <td>True</td>\n",
       "      <td>9999-12-31T23:59:59.999999Z</td>\n",
       "      <td>/eodata/Sentinel-2/MSI/L2A/2025/02/06/S2C_MSIL...</td>\n",
       "      <td>[{'Value': '138afaa59336ac4b72ce067a2bce657b',...</td>\n",
       "      <td>{'Start': '2025-02-06T11:03:01.024000Z', 'End'...</td>\n",
       "      <td>geography'SRID=4326;POLYGON ((-3.0002432260191...</td>\n",
       "      <td>{'type': 'Polygon', 'coordinates': [[[-3.00024...</td>\n",
       "    </tr>\n",
       "  </tbody>\n",
       "</table>\n",
       "</div>"
      ],
      "text/plain": [
       "    @odata.mediaContentType                                    Id  \\\n",
       "0  application/octet-stream  edb34515-7261-451a-ab02-d85ebcdf6785   \n",
       "1  application/octet-stream  2eb6ebd9-930c-59fa-8dea-1e67cf012611   \n",
       "2  application/octet-stream  8ff7c51f-f49b-47d9-b416-63df29f0557c   \n",
       "3  application/octet-stream  f3697bc5-f35e-42e7-b26c-e44f4a60e882   \n",
       "\n",
       "                                                Name  \\\n",
       "0  S3A_OL_2_WFR____20250209T103153_20250209T10345...   \n",
       "1  S3A_OL_1_EFR____20210705T102429_20210705T10272...   \n",
       "2  S2B_MSIL1C_20250201T110159_N0511_R094_T30TWM_2...   \n",
       "3  S2C_MSIL2A_20250206T110301_N0511_R094_T30TWM_2...   \n",
       "\n",
       "                ContentType  ContentLength                   OriginDate  \\\n",
       "0  application/octet-stream      158587676  2025-02-09T12:30:03.062000Z   \n",
       "1  application/octet-stream              0  2021-07-06T16:15:05.322000Z   \n",
       "2  application/octet-stream      803235674  2025-02-01T12:23:18.000000Z   \n",
       "3  application/octet-stream     1214617828  2025-02-06T15:54:25.000000Z   \n",
       "\n",
       "               PublicationDate             ModificationDate  Online  \\\n",
       "0  2025-02-09T12:36:03.032057Z  2025-02-09T12:49:50.228132Z    True   \n",
       "1  2021-07-06T16:22:48.993387Z  2021-07-06T16:22:48.993387Z    True   \n",
       "2  2025-02-01T12:30:17.499146Z  2025-02-01T12:30:17.499146Z    True   \n",
       "3  2025-02-06T16:06:55.109260Z  2025-02-06T16:06:55.109260Z    True   \n",
       "\n",
       "                  EvictionDate  \\\n",
       "0  9999-12-31T23:59:59.999999Z   \n",
       "1  9999-12-31T23:59:59.999999Z   \n",
       "2  9999-12-31T23:59:59.999999Z   \n",
       "3  9999-12-31T23:59:59.999999Z   \n",
       "\n",
       "                                              S3Path  \\\n",
       "0  /eodata/Sentinel-3/OLCI/OL_2_WFR___/2025/02/09...   \n",
       "1  /eodata/Sentinel-3/OLCI/OL_1_EFR/2021/07/05/S3...   \n",
       "2  /eodata/Sentinel-2/MSI/L1C/2025/02/01/S2B_MSIL...   \n",
       "3  /eodata/Sentinel-2/MSI/L2A/2025/02/06/S2C_MSIL...   \n",
       "\n",
       "                                            Checksum  \\\n",
       "0  [{'Value': 'bb33731e2d12aacda774b2aa39e735a8',...   \n",
       "1                                                 []   \n",
       "2  [{'Value': '3c7c187e8334aa5846932fa377e821e0',...   \n",
       "3  [{'Value': '138afaa59336ac4b72ce067a2bce657b',...   \n",
       "\n",
       "                                         ContentDate  \\\n",
       "0  {'Start': '2025-02-09T10:31:53.201611Z', 'End'...   \n",
       "1  {'Start': '2021-07-05T10:24:28.504000Z', 'End'...   \n",
       "2  {'Start': '2025-02-01T11:01:59.024000Z', 'End'...   \n",
       "3  {'Start': '2025-02-06T11:03:01.024000Z', 'End'...   \n",
       "\n",
       "                                           Footprint  \\\n",
       "0  geography'SRID=4326;POLYGON ((-12.7364 41.9745...   \n",
       "1  geography'SRID=4326;POLYGON ((-10.867 41.9672,...   \n",
       "2  geography'SRID=4326;POLYGON ((-3.0002432260191...   \n",
       "3  geography'SRID=4326;POLYGON ((-3.0002432260191...   \n",
       "\n",
       "                                        GeoFootprint  \n",
       "0  {'type': 'Polygon', 'coordinates': [[[-12.7364...  \n",
       "1  {'type': 'Polygon', 'coordinates': [[[-10.867,...  \n",
       "2  {'type': 'Polygon', 'coordinates': [[[-3.00024...  \n",
       "3  {'type': 'Polygon', 'coordinates': [[[-3.00024...  "
      ]
     },
     "execution_count": 3,
     "metadata": {},
     "output_type": "execute_result"
    }
   ],
   "source": [
    "# Search by a list of tiles\n",
    "tiles_list=[\"S2C_MSIL2A_20250206T110301_N0511_R094_T30TWM_20250206T145957.SAFE\", \"S2B_MSIL1C_20250201T110159_N0511_R094_T30TWM_20250201T114539.SAFE\",\n",
    "            \"S3A_OL_2_WFR____20250209T103153_20250209T103453_20250209T122811_0179_122_222_2160_MAR_O_NR_003.SEN3\",\n",
    "            \"S3A_OL_1_EFR____20210705T102429_20210705T102729_20210706T153631_0180_073_336_2160_LN1_O_NT_002.SEN3\"]\n",
    "\n",
    "settings = {'tiles_list': tiles_list}\n",
    "downloader = GetManager(settings)\n",
    "results = downloader.search()\n",
    "results\n",
    "\n",
    "downloaded, pending = downloader.download()"
   ]
  },
  {
   "cell_type": "markdown",
   "metadata": {},
   "source": [
    "### 3. Search by geospatial and temporal parameters"
   ]
  },
  {
   "cell_type": "code",
   "execution_count": null,
   "metadata": {},
   "outputs": [],
   "source": [
    "# Sentinel-2, over a single point (latitude, longitude)\n",
    "# settings = {'start_date': '2024-01-01', 'end_date': '2024-01-15', 'coordinates': (39.5, 3.2), 'platform': 'SENTINEL-2', 'product_type': 'S2MSI2A',  'cloud': 20}\n",
    "\n",
    "# Sentinel-3, over a single point (latitude, longitude)\n",
    "# settings = {'start_date': '2024-01-01', 'end_date': '2024-01-15', 'coordinates': (39.5, 3.2), 'platform': 'SENTINEL-3', 'product_type': 'OL_1_EFR___'}\n",
    "\n",
    "# Sentinel-3, over a bounding box (N, S, E, W)\n",
    "# settings = {'start_date': '2024-01-01', 'end_date': '2024-01-15', 'coordinates': {\"N\": 39.8, \"S\": 39.2, \"E\": 3.6, \"W\": 2.9}, 'platform': 'SENTINEL-3', 'product_type': 'OL_2_WFR___'}\n",
    "\n",
    "# Sentinel-2, over a bounding box (N, S, E, W)\n",
    "# settings = {'start_date': '2024-01-01', 'end_date': '2024-01-15', 'coordinates': {\"N\": 39.8, \"S\": 39.2, \"E\": 3.6, \"W\": 2.9}, 'platform': 'SENTINEL-2', 'product_type': 'S2MSI2A', 'cloud': 20}\n",
    "\n",
    "# Search by geospatial and temporal parameters\n",
    "settings = {'start_date': '2024-01-01', 'end_date': '2024-01-15',\n",
    "            'coordinates': {\"N\": 39.8, \"S\": 39.2, \"E\": 3.6, \"W\": 2.9},\n",
    "            'platform': 'SENTINEL-2', 'product_type': 'S2MSI2A', 'cloud': 20}\n",
    "\n",
    "downloader = GetManager(settings)\n",
    "results = downloader.search()\n",
    "results\n",
    "\n",
    "downloaded, pending = downloader.download()"
   ]
  },
  {
   "cell_type": "markdown",
   "metadata": {},
   "source": [
    "### 4. Search by region and temporal parameters"
   ]
  },
  {
   "cell_type": "code",
   "execution_count": 4,
   "metadata": {},
   "outputs": [
    {
     "name": "stdout",
     "output_type": "stream",
     "text": [
      "{'E': -2.69, 'N': 41.91, 'S': 41.82, 'W': -2.83}\n"
     ]
    }
   ],
   "source": [
    "coordinates = utils.get_coordinates('CdP')\n",
    "print(coordinates)"
   ]
  },
  {
   "cell_type": "code",
   "execution_count": null,
   "metadata": {},
   "outputs": [],
   "source": [
    "coordinates = utils.get_coordinates('CdP')\n",
    "settings = {'start_date': '2024-01-01', 'end_date': '2024-01-15', 'coordinates': coordinates,\n",
    "            'platform': 'SENTINEL-2', 'product_type': 'S2MSI2A', 'cloud': 20}\n",
    "\n",
    "downloader = GetManager(settings)\n",
    "results = downloader.search()\n",
    "results\n",
    "\n",
    "downloaded, pending = downloader.download()"
   ]
  }
 ],
 "metadata": {
  "kernelspec": {
   "display_name": ".venv",
   "language": "python",
   "name": "python3"
  },
  "language_info": {
   "codemirror_mode": {
    "name": "ipython",
    "version": 3
   },
   "file_extension": ".py",
   "mimetype": "text/x-python",
   "name": "python",
   "nbconvert_exporter": "python",
   "pygments_lexer": "ipython3",
   "version": "3.10.12"
  }
 },
 "nbformat": 4,
 "nbformat_minor": 4
}
