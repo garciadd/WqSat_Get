{
 "cells": [
  {
   "cell_type": "markdown",
   "metadata": {},
   "source": [
    "### *Import package*"
   ]
  },
  {
   "cell_type": "code",
   "execution_count": 1,
   "metadata": {},
   "outputs": [],
   "source": [
    "from wqsat_get import utils\n",
    "from wqsat_get.manager import GetManager"
   ]
  },
  {
   "cell_type": "markdown",
   "metadata": {},
   "source": [
    "### *load configuration from YAML*"
   ]
  },
  {
   "cell_type": "code",
   "execution_count": null,
   "metadata": {},
   "outputs": [
    {
     "name": "stderr",
     "output_type": "stream",
     "text": [
      "[2025-09-22 12:36:48,133] INFO - root: Logging initialized. Log file: /home/dani/github/WqSat_Get/logs/wqsat_get_20250922_123648.log\n",
      "[2025-09-22 12:36:48,134] INFO - wqsat_get.manager: Initialized WqSat_Get Module.\n",
      "[2025-09-22 12:36:48,138] INFO - wqsat_get.manager: Configuration successfully initialized ...\n",
      "[2025-09-22 12:36:48,139] INFO - wqsat_get.manager: Starting product search...\n",
      "[2025-09-22 12:36:48,139] INFO - wqsat_get.sentinel_get: Starting product search in SentinelGet...\n",
      "[2025-09-22 12:36:49,784] INFO - wqsat_get.manager: Search completed. Products found: 11\n"
     ]
    }
   ],
   "source": [
    "config_path = \"****/WqSat_settings.yaml\"  # Path to your configuration file\n",
    "manager = GetManager(config_file=config_path)\n",
    "results = manager.search()\n",
    "# downloaded, pending = manager.download()"
   ]
  },
  {
   "cell_type": "markdown",
   "metadata": {},
   "source": [
    "### *load configuration from dictionary*"
   ]
  },
  {
   "cell_type": "code",
   "execution_count": null,
   "metadata": {},
   "outputs": [
    {
     "name": "stderr",
     "output_type": "stream",
     "text": [
      "[2025-08-14 17:51:44,723] INFO - root: Logging initialized. Log file: /home/dani/github/WqSat_Get/logs/wqsat_get_20250814_175144.log\n",
      "[2025-08-14 17:51:44,724] INFO - root: Initialized WqSat_Get Module.\n",
      "[2025-08-14 17:51:44,724] INFO - root: Configuration successfully initialized ...\n",
      "[2025-08-14 17:51:44,725] INFO - root: Starting product search...\n",
      "[2025-08-14 17:51:44,726] INFO - root: Starting product search in SentinelGet...\n",
      "[2025-08-14 17:51:45,802] INFO - root: Search completed. Products found: 11\n"
     ]
    }
   ],
   "source": [
    "# Sentinel-2, over a single point (latitude, longitude)\n",
    "# config = {'start_date': '2024-01-01', 'end_date': '2024-01-15', 'coordinates': (39.5, 3.2), 'platform': 'SENTINEL-2', 'product_type': 'S2MSI2A',  'cloud': 20}\n",
    "\n",
    "# Sentinel-3, over a single point (latitude, longitude)\n",
    "# config = {'start_date': '2024-01-01', 'end_date': '2024-01-15', 'coordinates': (39.5, 3.2), 'platform': 'SENTINEL-3', 'product_type': 'OL_1_EFR___'}\n",
    "\n",
    "# Sentinel-3, over a bounding box (N, S, E, W)\n",
    "# config = {'start_date': '2024-01-01', 'end_date': '2024-01-15', 'coordinates': {\"N\": 39.8, \"S\": 39.2, \"E\": 3.6, \"W\": 2.9}, 'platform': 'SENTINEL-3', 'product_type': 'OL_2_WFR___'}\n",
    "\n",
    "# Sentinel-2, over a bounding box (N, S, E, W)\n",
    "# config = {'start_date': '2024-01-01', 'end_date': '2024-01-15', 'coordinates': {\"N\": 39.8, \"S\": 39.2, \"E\": 3.6, \"W\": 2.9}, 'platform': 'SENTINEL-2', 'product_type': 'S2MSI2A', 'cloud': 20}\n",
    "\n",
    "config = {\n",
    "    'credentials': {'username': '******',\n",
    "                    'password': '******'},\n",
    "    'platform': \"SENTINEL-2\",\n",
    "    'product_type': \"S2MSI1C\",\n",
    "    'start_date': \"2024-01-01\",\n",
    "    'end_date': \"2024-01-15\",\n",
    "    'roi_lat_lon':{'N': 39.8, 'S': 39.2, 'E': 3.6, 'W': 2.9}, \n",
    "    'cloud_cover': 20,\n",
    "    'output_dir': \"*******\"  # Path to your output directory\n",
    "    }\n",
    "\n",
    "manager = GetManager(config=config)\n",
    "results = manager.search()\n",
    "# downloaded, pending = manager.download()"
   ]
  },
  {
   "cell_type": "markdown",
   "metadata": {},
   "source": [
    "### *Search by tile name (different products, types and levels)*"
   ]
  },
  {
   "cell_type": "code",
   "execution_count": null,
   "metadata": {},
   "outputs": [
    {
     "name": "stderr",
     "output_type": "stream",
     "text": [
      "[2025-08-14 17:30:49,194] INFO - root: Logging initialized. Log file: /home/dani/github/WqSat_Get/logs/wqsat_get_20250814_173049.log\n",
      "[2025-08-14 17:30:49,194] INFO - root: Initialized WqSat_Get Module.\n",
      "[2025-08-14 17:30:49,195] INFO - root: Configuration successfully initialized ...\n",
      "[2025-08-14 17:30:49,195] INFO - root: Starting product search...\n",
      "[2025-08-14 17:30:49,196] INFO - root: Starting product search in SentinelGet...\n",
      "[2025-08-14 17:30:49,782] INFO - root: Search completed. Products found: 1\n"
     ]
    }
   ],
   "source": [
    "# Sentinel-2, Level 1, product type S2MSI1C --> S2B_MSIL1C_20250201T110159_N0511_R094_T30TWM_20250201T114539.SAFE\n",
    "# Sentinel-2, Level 2, product type S2MSI2A --> S2A_MSIL2A_20250206T110301_N0511_R094_T30TWM_20250206T145957.SAFE\n",
    "# Sentinel-3, Level 1, product type OL_1_EFR___ --> S3A_OL_1_EFR____20210705T102429_20210705T102729_20210706T153631_0180_073_336_2160_LN1_O_NT_002.SEN3\n",
    "# Sentinel-3, Level 2, product type OL_2_WFR___ --> S3A_OL_2_WFR____20250209T103153_20250209T103453_20250209T122811_0179_122_222_2160_MAR_O_NR_003.SEN3\n",
    "# Sentinel-3, Level 2, product type OL_2_LFR___ --> S3B_OL_2_LFR____20250204T102556_20250204T102856_20250205T111038_0179_103_008_2340_ESA_O_NT_003.SEN3\n",
    "\n",
    "config = {\n",
    "    'credentials': {'username': '********',\n",
    "                    'password': '********'},\n",
    "    'tile': \"S2A_MSIL1C_20240107T104431_N0510_R008_T31SDD_20240107T124009.SAFE\",\n",
    "    'output_dir': \"********\"  # Path to your output directory\n",
    "    }\n",
    "\n",
    "manager = GetManager(config=config)\n",
    "results = manager.search()\n",
    "# downloaded, pending = manager.download()"
   ]
  },
  {
   "cell_type": "markdown",
   "metadata": {},
   "source": [
    "### *Search by a list of tiles (mixing different types and levels)*"
   ]
  },
  {
   "cell_type": "code",
   "execution_count": null,
   "metadata": {},
   "outputs": [
    {
     "name": "stderr",
     "output_type": "stream",
     "text": [
      "[2025-08-14 17:34:52,652] INFO - root: Logging initialized. Log file: /home/dani/github/WqSat_Get/logs/wqsat_get_20250814_173452.log\n",
      "[2025-08-14 17:34:52,652] INFO - root: Initialized WqSat_Get Module.\n",
      "[2025-08-14 17:34:52,653] INFO - root: Configuration successfully initialized ...\n",
      "[2025-08-14 17:34:52,653] INFO - root: Starting product search...\n",
      "[2025-08-14 17:34:52,654] INFO - root: Starting product search in SentinelGet...\n",
      "[2025-08-14 17:34:53,282] INFO - root: Search completed. Products found: 3\n"
     ]
    }
   ],
   "source": [
    "# Search by a list of tiles\n",
    "tiles_list=[\"S2C_MSIL2A_20250206T110301_N0511_R094_T30TWM_20250206T145957.SAFE\", \"S2B_MSIL1C_20250201T110159_N0511_R094_T30TWM_20250201T114539.SAFE\",\n",
    "            \"S3A_OL_2_WFR____20250209T103153_20250209T103453_20250209T122811_0179_122_222_2160_MAR_O_NR_003.SEN3\",\n",
    "            \"S3A_OL_1_EFR____20210705T102429_20210705T102729_20210706T153631_0180_073_336_2160_LN1_O_NT_002.SEN3\"]\n",
    "\n",
    "config = {\n",
    "    'credentials': {'username': '********',\n",
    "                    'password': '********'},\n",
    "    'tiles_list': tiles_list,\n",
    "    'output_dir': \"********\"  # Path to your output directory\n",
    "    }\n",
    "\n",
    "manager = GetManager(config=config)\n",
    "results = manager.search()\n",
    "# downloaded, pending = manager.download()"
   ]
  },
  {
   "cell_type": "markdown",
   "metadata": {},
   "source": [
    "### *Search by region and temporal parameters*"
   ]
  },
  {
   "cell_type": "code",
   "execution_count": null,
   "metadata": {},
   "outputs": [
    {
     "name": "stdout",
     "output_type": "stream",
     "text": [
      "{'E': -2.69, 'N': 41.91, 'S': 41.82, 'W': -2.83}\n"
     ]
    }
   ],
   "source": [
    "coordinates = utils.get_coordinates('CdP')\n",
    "config = {\n",
    "    'credentials': {'username': '******',\n",
    "                    'password': '******'},\n",
    "    'platform': \"SENTINEL-2\",\n",
    "    'product_type': \"S2MSI1C\",\n",
    "    'start_date': \"2024-01-01\",\n",
    "    'end_date': \"2024-01-15\",\n",
    "    'roi_lat_lon': coordinates, \n",
    "    'cloud_cover': 20,\n",
    "    'output_dir': \"********\"  # Path to your output directory\n",
    "    }\n",
    "\n",
    "manager = GetManager(config=config)\n",
    "results = manager.search()\n",
    "# downloaded, pending = manager.download()"
   ]
  }
 ],
 "metadata": {
  "kernelspec": {
   "display_name": ".venv",
   "language": "python",
   "name": "python3"
  },
  "language_info": {
   "codemirror_mode": {
    "name": "ipython",
    "version": 3
   },
   "file_extension": ".py",
   "mimetype": "text/x-python",
   "name": "python",
   "nbconvert_exporter": "python",
   "pygments_lexer": "ipython3",
   "version": "3.12.3"
  }
 },
 "nbformat": 4,
 "nbformat_minor": 4
}
